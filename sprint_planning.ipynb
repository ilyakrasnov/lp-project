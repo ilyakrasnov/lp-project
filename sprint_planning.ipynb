{
 "cells": [
  {
   "cell_type": "markdown",
   "metadata": {},
   "source": [
    "### Sprint planning - Integer Linear Optimization"
   ]
  },
  {
   "cell_type": "code",
   "execution_count": 7,
   "metadata": {},
   "outputs": [
    {
     "data": {
      "text/plain": [
       "Sprint Planning:\n",
       "MAXIMIZE\n",
       "3*f1 + 8*f2 + 13*f3 + 5*f4 + 1*f5 + 21*f6 + 13*f7 + 2*f8 + 0\n",
       "SUBJECT TO\n",
       "_C1: 5 f1 + 10 f2 + 18 f4 + 8 f5 + 10 f6 + 2 f7 + 4 f8 <= 40\n",
       "\n",
       "_C2: 3 f1 + 10 f2 + 25 f3 + 6 f4 + 6 f5 + 4 f6 + 10 f7 + 6 f8 <= 35\n",
       "\n",
       "_C3: 2 f1 + 4 f2 + 3 f4 + 12 f5 + 8 f6 + 4 f7 + 2 f8 <= 40\n",
       "\n",
       "VARIABLES\n",
       "0 <= f1 <= 1 Integer\n",
       "0 <= f2 <= 1 Integer\n",
       "0 <= f3 <= 1 Integer\n",
       "0 <= f4 <= 1 Integer\n",
       "0 <= f5 <= 1 Integer\n",
       "0 <= f6 <= 1 Integer\n",
       "0 <= f7 <= 1 Integer\n",
       "0 <= f8 <= 1 Integer"
      ]
     },
     "execution_count": 7,
     "metadata": {},
     "output_type": "execute_result"
    }
   ],
   "source": [
    "import time\n",
    "from pulp import *\n",
    "\n",
    "# Declaring variables\n",
    "f1 = LpVariable(\"f1\", 0, upBound=1, cat='Integer')\n",
    "f2 = LpVariable(\"f2\", 0, upBound=1, cat='Integer')\n",
    "f3 = LpVariable(\"f3\", 0, upBound=1, cat='Integer')\n",
    "f4 = LpVariable(\"f4\", 0, upBound=1, cat='Integer')\n",
    "f5 = LpVariable(\"f5\", 0, upBound=1, cat='Integer')\n",
    "f6 = LpVariable(\"f6\", 0, upBound=1, cat='Integer')\n",
    "f7 = LpVariable(\"f7\", 0, upBound=1, cat='Integer')\n",
    "f8 = LpVariable(\"f8\", 0, upBound=1, cat='Integer')\n",
    "\n",
    "backlog = [\n",
    "    { 'feature': f1, 'frontend_dev': 5, 'backend_dev': 3, 'design': 2, 'points': 3 },\n",
    "    { 'feature': f2, 'frontend_dev': 10, 'backend_dev': 10, 'design': 4, 'points': 8 },\n",
    "    { 'feature': f3, 'frontend_dev': 0, 'backend_dev': 25, 'design': 0, 'points': 13 },\n",
    "    { 'feature': f4, 'frontend_dev': 18, 'backend_dev': 6, 'design': 3, 'points': 5 },\n",
    "    { 'feature': f5, 'frontend_dev': 8, 'backend_dev': 6, 'design': 12, 'points': 1 },\n",
    "    { 'feature': f6, 'frontend_dev': 10, 'backend_dev': 4, 'design': 8, 'points': 21 },\n",
    "    { 'feature': f7, 'frontend_dev': 2, 'backend_dev': 10, 'design': 4, 'points': 13 },\n",
    "    { 'feature': f8, 'frontend_dev': 4, 'backend_dev': 6, 'design': 2, 'points': 2 }\n",
    "]\n",
    "\n",
    "team_availabilities = { \n",
    "    'frontend_dev': 40,\n",
    "    'backend_dev': 35,\n",
    "    'design': 40\n",
    "}\n",
    "\n",
    "\n",
    "# Defining the problem\n",
    "start_def_time = time.time()\n",
    "\n",
    "prob = LpProblem(\"Sprint Planning\", LpMaximize)\n",
    "\n",
    "# Adding constraings\n",
    "feature_names = [feature['feature'] for feature in backlog]\n",
    "for dev, availability in team_availabilities.items():\n",
    "    feature_requirements_for_dev = [feature[dev] for feature in backlog]\n",
    "    prob += sum([feature * hours for feature, hours in zip(feature_names, feature_requirements_for_dev)]) <= availability\n",
    "\n",
    "time_def =  (time.time() - start_def_time) * 1000\n",
    "\n",
    "    \n",
    "# Defining the objective function\n",
    "story_points = [feature['points'] for feature in backlog]\n",
    "prob += sum([feature * points for feature, points in zip(feature_names, story_points)])\n",
    "\n",
    "# Solving the problem\n",
    "start_solve_time = time.time()\n",
    "status = prob.solve(GLPK(msg=0))\n",
    "time_solve =  (time.time() - start_solve_time) * 1000\n",
    "\n",
    "LpStatus[status]\n",
    "\n",
    "# See problem definition\n",
    "prob\n"
   ]
  },
  {
   "cell_type": "markdown",
   "metadata": {},
   "source": [
    "### Benchmarks"
   ]
  },
  {
   "cell_type": "code",
   "execution_count": 8,
   "metadata": {},
   "outputs": [
    {
     "data": {
      "text/plain": [
       "2.4640560150146484"
      ]
     },
     "execution_count": 8,
     "metadata": {},
     "output_type": "execute_result"
    }
   ],
   "source": [
    "# Time defining the problem in ms\n",
    "time_def"
   ]
  },
  {
   "cell_type": "code",
   "execution_count": 9,
   "metadata": {},
   "outputs": [
    {
     "data": {
      "text/plain": [
       "12.382984161376953"
      ]
     },
     "execution_count": 9,
     "metadata": {},
     "output_type": "execute_result"
    }
   ],
   "source": [
    "# Time solving the problem in ms\n",
    "time_solve"
   ]
  },
  {
   "cell_type": "code",
   "execution_count": 4,
   "metadata": {},
   "outputs": [
    {
     "data": {
      "text/plain": [
       "47"
      ]
     },
     "execution_count": 4,
     "metadata": {},
     "output_type": "execute_result"
    }
   ],
   "source": [
    "# See the results (maximum of story points)\n",
    "pulp.value(prob.objective)"
   ]
  },
  {
   "cell_type": "code",
   "execution_count": 5,
   "metadata": {},
   "outputs": [
    {
     "data": {
      "text/html": [
       "<div>\n",
       "<style>\n",
       "    .dataframe thead tr:only-child th {\n",
       "        text-align: right;\n",
       "    }\n",
       "\n",
       "    .dataframe thead th {\n",
       "        text-align: left;\n",
       "    }\n",
       "\n",
       "    .dataframe tbody tr th {\n",
       "        vertical-align: top;\n",
       "    }\n",
       "</style>\n",
       "<table border=\"1\" class=\"dataframe\">\n",
       "  <thead>\n",
       "    <tr style=\"text-align: right;\">\n",
       "      <th></th>\n",
       "      <th>Feature</th>\n",
       "      <th>Story Points</th>\n",
       "      <th>Frontend</th>\n",
       "      <th>Backend</th>\n",
       "      <th>Design</th>\n",
       "    </tr>\n",
       "  </thead>\n",
       "  <tbody>\n",
       "    <tr>\n",
       "      <th>f2</th>\n",
       "      <td>f2</td>\n",
       "      <td>8</td>\n",
       "      <td>10</td>\n",
       "      <td>10</td>\n",
       "      <td>4</td>\n",
       "    </tr>\n",
       "    <tr>\n",
       "      <th>f4</th>\n",
       "      <td>f4</td>\n",
       "      <td>5</td>\n",
       "      <td>18</td>\n",
       "      <td>6</td>\n",
       "      <td>3</td>\n",
       "    </tr>\n",
       "    <tr>\n",
       "      <th>f6</th>\n",
       "      <td>f6</td>\n",
       "      <td>21</td>\n",
       "      <td>10</td>\n",
       "      <td>4</td>\n",
       "      <td>8</td>\n",
       "    </tr>\n",
       "    <tr>\n",
       "      <th>f7</th>\n",
       "      <td>f7</td>\n",
       "      <td>13</td>\n",
       "      <td>2</td>\n",
       "      <td>10</td>\n",
       "      <td>4</td>\n",
       "    </tr>\n",
       "    <tr>\n",
       "      <th>Total</th>\n",
       "      <td>-</td>\n",
       "      <td>47</td>\n",
       "      <td>40</td>\n",
       "      <td>30</td>\n",
       "      <td>19</td>\n",
       "    </tr>\n",
       "  </tbody>\n",
       "</table>\n",
       "</div>"
      ],
      "text/plain": [
       "      Feature  Story Points  Frontend  Backend  Design\n",
       "f2         f2             8        10       10       4\n",
       "f4         f4             5        18        6       3\n",
       "f6         f6            21        10        4       8\n",
       "f7         f7            13         2       10       4\n",
       "Total       -            47        40       30      19"
      ]
     },
     "execution_count": 5,
     "metadata": {},
     "output_type": "execute_result"
    }
   ],
   "source": [
    "# Format results\n",
    "import pandas as pd\n",
    "implement_flags = []\n",
    "\n",
    "for v in prob.variables():\n",
    "\timplement_flags.append(v.varValue)\n",
    "    \n",
    "    \n",
    "frontend_hours = [feature['frontend_dev'] for feature in backlog]\n",
    "backend_hours = [feature['backend_dev'] for feature in backlog]\n",
    "design_hours = [feature['design'] for feature in backlog]\n",
    "\n",
    "frontend_time = sum([feature * hours for feature, hours in zip(frontend_hours, implement_flags)])\n",
    "df = pd.DataFrame({'Feature': feature_names, 'Story Points': story_points, 'Implement': implement_flags, 'Frontend': frontend_hours, 'Backend': backend_hours, 'Design': design_hours })\n",
    "df.index = df[\"Feature\"]\n",
    "weekly_plan = df[df[\"Implement\"] == 1]\n",
    "\n",
    "total = pd.DataFrame([['-',sum(weekly_plan['Backend']), sum(weekly_plan['Design']), sum(weekly_plan['Frontend']), sum(weekly_plan['Story Points'])]], columns=list(['Feature','Backend', 'Design', 'Frontend', 'Story Points']))\n",
    "total.index = ['Total']\n",
    "weekly_plan = weekly_plan.append(total)\n",
    "\n",
    "\n",
    "cols = ['Feature', 'Story Points', 'Frontend', 'Backend', 'Design']\n",
    "weekly_plan = weekly_plan[cols]\n",
    "weekly_plan"
   ]
  }
 ],
 "metadata": {
  "kernelspec": {
   "display_name": "Python 3",
   "language": "python",
   "name": "python3"
  },
  "language_info": {
   "codemirror_mode": {
    "name": "ipython",
    "version": 3
   },
   "file_extension": ".py",
   "mimetype": "text/x-python",
   "name": "python",
   "nbconvert_exporter": "python",
   "pygments_lexer": "ipython3",
   "version": "3.6.5"
  }
 },
 "nbformat": 4,
 "nbformat_minor": 2
}
